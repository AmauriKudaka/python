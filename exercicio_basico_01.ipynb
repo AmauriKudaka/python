{
  "nbformat": 4,
  "nbformat_minor": 0,
  "metadata": {
    "colab": {
      "provenance": [],
      "authorship_tag": "ABX9TyNeu21DtvCdyRlbL20KYCp6",
      "include_colab_link": true
    },
    "kernelspec": {
      "name": "python3",
      "display_name": "Python 3"
    },
    "language_info": {
      "name": "python"
    }
  },
  "cells": [
    {
      "cell_type": "markdown",
      "metadata": {
        "id": "view-in-github",
        "colab_type": "text"
      },
      "source": [
        "<a href=\"https://colab.research.google.com/github/AmauriKudaka/python/blob/main/exercicio_basico_01.ipynb\" target=\"_parent\"><img src=\"https://colab.research.google.com/assets/colab-badge.svg\" alt=\"Open In Colab\"/></a>"
      ]
    },
    {
      "cell_type": "markdown",
      "source": [
        "Exercício básico 1: gerado pelo chatgpt\n",
        "\n",
        "Crie uma variável para armazenar seu nome e outra para armazenar sua idade. Em seguida, use uma f-string para imprimir uma mensagem formatada como:\n",
        "Meu nome é [nome] e eu tenho [idade] anos."
      ],
      "metadata": {
        "id": "BNuxg-KNA_QT"
      }
    },
    {
      "cell_type": "code",
      "execution_count": 1,
      "metadata": {
        "colab": {
          "base_uri": "https://localhost:8080/"
        },
        "id": "bMgRDNxdAfBt",
        "outputId": "00aacc34-4793-444c-833a-eca84694ec8c"
      },
      "outputs": [
        {
          "output_type": "stream",
          "name": "stdout",
          "text": [
            "Meu nome é Amauri e eu tenho 65 anos.\n"
          ]
        }
      ],
      "source": [
        "\n",
        "\n",
        "nome = \"Amauri\"\n",
        "idade = 65\n",
        "\n",
        "print(f'Meu nome é {nome} e eu tenho {idade} anos.')"
      ]
    }
  ]
}